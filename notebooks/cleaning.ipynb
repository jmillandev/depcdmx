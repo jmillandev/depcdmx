{
 "cells": [
  {
   "cell_type": "code",
   "execution_count": 118,
   "metadata": {},
   "outputs": [],
   "source": [
    "# Imports\n",
    "import pandas as pd\n",
    "import numpy as np\n",
    "last_date = '2023-01-31'\n",
    "date = '2023-03-01'"
   ]
  },
  {
   "attachments": {},
   "cell_type": "markdown",
   "metadata": {},
   "source": [
    "# La Mudi"
   ]
  },
  {
   "cell_type": "code",
   "execution_count": 119,
   "metadata": {},
   "outputs": [],
   "source": [
    "dataframe = pd.read_excel(f\"../data/{date}/lamudi-distrito-federal-rent.xlsx\")"
   ]
  },
  {
   "cell_type": "code",
   "execution_count": 120,
   "metadata": {},
   "outputs": [
    {
     "name": "stderr",
     "output_type": "stream",
     "text": [
      "/tmp/ipykernel_11568/2771060345.py:1: UserWarning: This pattern is interpreted as a regular expression, and has match groups. To actually get the groups, use str.extract.\n",
      "  dataframe['real_estate_agent'] = dataframe['agent_link'].str.contains('(inmobiliaria)|(-agn)|(inmobil)|(grupo)|(raices)|(bienes)|(asesor)|(brokers)', regex=True)\n"
     ]
    }
   ],
   "source": [
    "dataframe['real_estate_agent'] = dataframe['agent_link'].str.contains('(inmobiliaria)|(-agn)|(inmobil)|(grupo)|(raices)|(bienes)|(asesor)|(brokers)', regex=True)"
   ]
  },
  {
   "cell_type": "code",
   "execution_count": 121,
   "metadata": {},
   "outputs": [],
   "source": [
    "dataframe['public_price'] = np.logical_not(dataframe['public_price'].isnull())"
   ]
  },
  {
   "cell_type": "code",
   "execution_count": 122,
   "metadata": {},
   "outputs": [],
   "source": [
    "dataframe['agent_publications'] = dataframe.groupby('agent_id')['agent_id'].transform('count')"
   ]
  },
  {
   "cell_type": "code",
   "execution_count": 123,
   "metadata": {},
   "outputs": [],
   "source": [
    "dataframe.sort_values(['agent_publications', 'real_estate_agent', 'phone_number'], ascending=[True, True, True], inplace=True)"
   ]
  },
  {
   "cell_type": "code",
   "execution_count": 124,
   "metadata": {},
   "outputs": [],
   "source": [
    "last_dataframe = pd.read_excel(f\"../data/{last_date}/clean-lamudi-distrito-federal-rent.xlsx\")"
   ]
  },
  {
   "cell_type": "code",
   "execution_count": 125,
   "metadata": {},
   "outputs": [],
   "source": [
    "df = pd.merge(dataframe, last_dataframe, on=['id'], how=\"outer\", indicator=True)\n",
    "df = df[df['_merge'] == 'left_only']"
   ]
  },
  {
   "cell_type": "code",
   "execution_count": 126,
   "metadata": {},
   "outputs": [
    {
     "data": {
      "text/plain": [
       "(1138, 45)"
      ]
     },
     "execution_count": 126,
     "metadata": {},
     "output_type": "execute_result"
    }
   ],
   "source": [
    "df.shape"
   ]
  },
  {
   "cell_type": "code",
   "execution_count": 127,
   "metadata": {},
   "outputs": [],
   "source": [
    "\n",
    "df.to_excel(f\"../data/{date}/clean-lamudi-distrito-federal-rent.xlsx\")"
   ]
  },
  {
   "attachments": {},
   "cell_type": "markdown",
   "metadata": {},
   "source": [
    "# Segunda Mano"
   ]
  },
  {
   "cell_type": "code",
   "execution_count": 128,
   "metadata": {},
   "outputs": [
    {
     "data": {
      "text/plain": [
       "(6304, 19)"
      ]
     },
     "execution_count": 128,
     "metadata": {},
     "output_type": "execute_result"
    }
   ],
   "source": [
    "dataframe = pd.read_excel(f\"../data/{date}/segundamano-ciudad-de-mexico-renta.xlsx\")\n",
    "dataframe.shape"
   ]
  },
  {
   "cell_type": "code",
   "execution_count": 129,
   "metadata": {},
   "outputs": [],
   "source": [
    "dataframe['agent_publications'] = dataframe.groupby('agent_id')['agent_id'].transform('count')"
   ]
  },
  {
   "cell_type": "code",
   "execution_count": 130,
   "metadata": {},
   "outputs": [],
   "source": [
    "dataframe.sort_values(['agent_publications', 'real_estate_agent', 'phone'], ascending=[True, True, True], inplace=True)"
   ]
  },
  {
   "cell_type": "code",
   "execution_count": 131,
   "metadata": {},
   "outputs": [],
   "source": [
    "last_dataframe = pd.read_excel(f\"../data/{last_date}/clean-segundamano-ciudad-de-mexico-renta.xlsx\")"
   ]
  },
  {
   "cell_type": "code",
   "execution_count": 132,
   "metadata": {},
   "outputs": [],
   "source": [
    "df = pd.merge(dataframe, last_dataframe, on='id', how=\"outer\", indicator=True)\n",
    "df = df[df['_merge'] == 'left_only']"
   ]
  },
  {
   "cell_type": "code",
   "execution_count": 133,
   "metadata": {},
   "outputs": [],
   "source": [
    "df.to_excel(f\"../data/{date}/clean-segundamano-ciudad-de-mexico-renta.xlsx\")"
   ]
  },
  {
   "cell_type": "code",
   "execution_count": 134,
   "metadata": {},
   "outputs": [
    {
     "data": {
      "text/plain": [
       "(69, 42)"
      ]
     },
     "execution_count": 134,
     "metadata": {},
     "output_type": "execute_result"
    }
   ],
   "source": [
    "df.shape"
   ]
  }
 ],
 "metadata": {
  "kernelspec": {
   "display_name": "venv",
   "language": "python",
   "name": "python3"
  },
  "language_info": {
   "codemirror_mode": {
    "name": "ipython",
    "version": 3
   },
   "file_extension": ".py",
   "mimetype": "text/x-python",
   "name": "python",
   "nbconvert_exporter": "python",
   "pygments_lexer": "ipython3",
   "version": "3.9.7"
  },
  "vscode": {
   "interpreter": {
    "hash": "ed3a109c1dd6bc7aa534c20059e32fe87a351567d090042b1206be7cf97e7cad"
   }
  }
 },
 "nbformat": 4,
 "nbformat_minor": 2
}
